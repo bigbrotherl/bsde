{
 "cells": [
  {
   "cell_type": "code",
   "execution_count": 1,
   "metadata": {},
   "outputs": [],
   "source": [
    "import matplotlib.pyplot as plt\n",
    "from equation import PricingOption, AllenCahn, HJB\n",
    "from config import PricingOptionConfig, AllenCahnConfig, HJBConfig\n",
    "from solver_4 import FeedForwardModel\n",
    "import tensorflow.compat.v1 as tf\n",
    "import numpy as np\n",
    "from scipy.stats import norm"
   ]
  },
  {
   "cell_type": "code",
   "execution_count": 2,
   "metadata": {},
   "outputs": [
    {
     "name": "stdout",
     "output_type": "stream",
     "text": [
      "WARNING:tensorflow:From d:\\python\\lib\\site-packages\\tensorflow_core\\python\\ops\\resource_variable_ops.py:1630: calling BaseResourceVariable.__init__ (from tensorflow.python.ops.resource_variable_ops) with constraint is deprecated and will be removed in a future version.\n",
      "Instructions for updating:\n",
      "If using Keras pass *_constraint arguments to layers.\n",
      "step:     0,loss: 1.9232e+01,y_init: 2.1783e-01  elapsed time   5\n",
      "step:  1000,loss: 1.1256e+00,y_init: 1.5020e+00  elapsed time  82\n",
      "step:  2000,loss: 1.2973e-01,y_init: 4.1393e+00  elapsed time 160\n",
      "step:  3000,loss: 2.5166e-03,y_init: 4.5910e+00  elapsed time 239\n",
      "step:  4000,loss: 2.4753e-03,y_init: 4.5910e+00  elapsed time 320\n"
     ]
    }
   ],
   "source": [
    "# 4.3\n",
    "#params\n",
    "dim, total_time, num_time_interval = 100, 1, 10\n",
    "\n",
    "#fit\n",
    "H = HJB(dim, total_time, num_time_interval)\n",
    "tf.reset_default_graph()\n",
    "with tf.Session() as sess:\n",
    "    model = FeedForwardModel(sess, H, HJBConfig())\n",
    "    model.build()\n",
    "    model.train()"
   ]
  },
  {
   "cell_type": "code",
   "execution_count": 3,
   "metadata": {},
   "outputs": [
    {
     "name": "stdout",
     "output_type": "stream",
     "text": [
      "step:     0,loss: 1.8550e-01,y_init: 5.7987e-01  elapsed time   6\n",
      "step:  1000,loss: 1.6151e-02,y_init: 2.2247e-01  elapsed time  87\n",
      "step:  2000,loss: 3.8638e-04,y_init: 7.9127e-02  elapsed time 168\n",
      "step:  3000,loss: 4.5501e-06,y_init: 5.3990e-02  elapsed time 249\n",
      "step:  4000,loss: 3.7729e-06,y_init: 5.3031e-02  elapsed time 331\n"
     ]
    }
   ],
   "source": [
    "# 4.2\n",
    "#params\n",
    "dim, total_time, num_time_interval = 100, 0.3, 10\n",
    "\n",
    "#fit\n",
    "AC= AllenCahn(dim, total_time, num_time_interval)\n",
    "tf.reset_default_graph()\n",
    "with tf.Session() as sess:\n",
    "    model = FeedForwardModel(sess, AC, AllenCahnConfig())\n",
    "    model.build()\n",
    "    model.train()"
   ]
  },
  {
   "cell_type": "code",
   "execution_count": null,
   "metadata": {},
   "outputs": [
    {
     "name": "stdout",
     "output_type": "stream",
     "text": [
      "step:     0,loss: 2.5951e+05,y_init: 1.5880e+01  elapsed time   6\n",
      "step:  1000,loss: 3.7059e+01,y_init: 1.9552e+01  elapsed time 101\n",
      "step:  2000,loss: 3.2850e+01,y_init: 2.1060e+01  elapsed time 198\n",
      "step:  3000,loss: 3.2773e+01,y_init: 2.1268e+01  elapsed time 294\n"
     ]
    }
   ],
   "source": [
    "# 4.4\n",
    "#params\n",
    "dim, total_time, num_time_interval = 100, 0.5, 10\n",
    "\n",
    "#fit\n",
    "Option= PricingOption(dim, total_time, num_time_interval)\n",
    "tf.reset_default_graph()\n",
    "with tf.Session() as sess:\n",
    "    model = FeedForwardModel(sess, Option, PricingOptionConfig())\n",
    "    model.build()\n",
    "    model.train()"
   ]
  },
  {
   "cell_type": "code",
   "execution_count": null,
   "metadata": {},
   "outputs": [],
   "source": []
  }
 ],
 "metadata": {
  "kernelspec": {
   "display_name": "Python 3",
   "language": "python",
   "name": "python3"
  },
  "language_info": {
   "codemirror_mode": {
    "name": "ipython",
    "version": 3
   },
   "file_extension": ".py",
   "mimetype": "text/x-python",
   "name": "python",
   "nbconvert_exporter": "python",
   "pygments_lexer": "ipython3",
   "version": "3.6.8"
  }
 },
 "nbformat": 4,
 "nbformat_minor": 2
}
